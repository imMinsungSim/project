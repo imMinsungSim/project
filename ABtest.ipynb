{
 "cells": [
  {
   "cell_type": "code",
   "execution_count": 2,
   "id": "6b3cf3b3",
   "metadata": {},
   "outputs": [],
   "source": [
    "import numpy as np \n",
    "import pandas as pd \n",
    "import os\n",
    "for dirname, _, filenames in os.walk('/kaggle/input'):\n",
    "    for filename in filenames:\n",
    "        print(os.path.join(dirname, filename))\n",
    "\n",
    "import warnings\n",
    "warnings.filterwarnings(\"ignore\")"
   ]
  },
  {
   "cell_type": "code",
   "execution_count": 3,
   "id": "e73e9e3c",
   "metadata": {},
   "outputs": [],
   "source": [
    "import matplotlib.pyplot as plt\n",
    "import seaborn as sns\n",
    "from scipy import stats\n",
    "import statsmodels.api as sm\n",
    "from statsmodels.stats.proportion import proportions_ztest"
   ]
  },
  {
   "cell_type": "code",
   "execution_count": 4,
   "id": "6ed61214",
   "metadata": {},
   "outputs": [],
   "source": [
    "sns.set(style='whitegrid', palette='deep', font_scale=1.2)\n",
    "file_path = \"C:/Users/LENOVO/Desktop/ab_data.csv\"\n",
    "df = pd.read_csv(file_path)"
   ]
  },
  {
   "cell_type": "code",
   "execution_count": 5,
   "id": "bf087693",
   "metadata": {},
   "outputs": [
    {
     "name": "stdout",
     "output_type": "stream",
     "text": [
      "Data Shape: (294478, 5)\n"
     ]
    },
    {
     "data": {
      "text/html": [
       "<div>\n",
       "<style scoped>\n",
       "    .dataframe tbody tr th:only-of-type {\n",
       "        vertical-align: middle;\n",
       "    }\n",
       "\n",
       "    .dataframe tbody tr th {\n",
       "        vertical-align: top;\n",
       "    }\n",
       "\n",
       "    .dataframe thead th {\n",
       "        text-align: right;\n",
       "    }\n",
       "</style>\n",
       "<table border=\"1\" class=\"dataframe\">\n",
       "  <thead>\n",
       "    <tr style=\"text-align: right;\">\n",
       "      <th></th>\n",
       "      <th>user_id</th>\n",
       "      <th>timestamp</th>\n",
       "      <th>group</th>\n",
       "      <th>landing_page</th>\n",
       "      <th>converted</th>\n",
       "    </tr>\n",
       "  </thead>\n",
       "  <tbody>\n",
       "    <tr>\n",
       "      <th>0</th>\n",
       "      <td>851104</td>\n",
       "      <td>2017-01-21 22:11:48.556739</td>\n",
       "      <td>control</td>\n",
       "      <td>old_page</td>\n",
       "      <td>0</td>\n",
       "    </tr>\n",
       "    <tr>\n",
       "      <th>1</th>\n",
       "      <td>804228</td>\n",
       "      <td>2017-01-12 08:01:45.159739</td>\n",
       "      <td>control</td>\n",
       "      <td>old_page</td>\n",
       "      <td>0</td>\n",
       "    </tr>\n",
       "    <tr>\n",
       "      <th>2</th>\n",
       "      <td>661590</td>\n",
       "      <td>2017-01-11 16:55:06.154213</td>\n",
       "      <td>treatment</td>\n",
       "      <td>new_page</td>\n",
       "      <td>0</td>\n",
       "    </tr>\n",
       "    <tr>\n",
       "      <th>3</th>\n",
       "      <td>853541</td>\n",
       "      <td>2017-01-08 18:28:03.143765</td>\n",
       "      <td>treatment</td>\n",
       "      <td>new_page</td>\n",
       "      <td>0</td>\n",
       "    </tr>\n",
       "    <tr>\n",
       "      <th>4</th>\n",
       "      <td>864975</td>\n",
       "      <td>2017-01-21 01:52:26.210827</td>\n",
       "      <td>control</td>\n",
       "      <td>old_page</td>\n",
       "      <td>1</td>\n",
       "    </tr>\n",
       "  </tbody>\n",
       "</table>\n",
       "</div>"
      ],
      "text/plain": [
       "   user_id                   timestamp      group landing_page  converted\n",
       "0   851104  2017-01-21 22:11:48.556739    control     old_page          0\n",
       "1   804228  2017-01-12 08:01:45.159739    control     old_page          0\n",
       "2   661590  2017-01-11 16:55:06.154213  treatment     new_page          0\n",
       "3   853541  2017-01-08 18:28:03.143765  treatment     new_page          0\n",
       "4   864975  2017-01-21 01:52:26.210827    control     old_page          1"
      ]
     },
     "execution_count": 5,
     "metadata": {},
     "output_type": "execute_result"
    }
   ],
   "source": [
    "print(\"Data Shape:\", df.shape)\n",
    "df.head()"
   ]
  },
  {
   "cell_type": "code",
   "execution_count": 6,
   "id": "faaeb45d",
   "metadata": {},
   "outputs": [
    {
     "name": "stdout",
     "output_type": "stream",
     "text": [
      "<class 'pandas.core.frame.DataFrame'>\n",
      "RangeIndex: 294478 entries, 0 to 294477\n",
      "Data columns (total 5 columns):\n",
      " #   Column        Non-Null Count   Dtype \n",
      "---  ------        --------------   ----- \n",
      " 0   user_id       294478 non-null  int64 \n",
      " 1   timestamp     294478 non-null  object\n",
      " 2   group         294478 non-null  object\n",
      " 3   landing_page  294478 non-null  object\n",
      " 4   converted     294478 non-null  int64 \n",
      "dtypes: int64(2), object(3)\n",
      "memory usage: 11.2+ MB\n"
     ]
    }
   ],
   "source": [
    "df.info()"
   ]
  },
  {
   "cell_type": "code",
   "execution_count": 7,
   "id": "d70525f0",
   "metadata": {},
   "outputs": [
    {
     "data": {
      "text/html": [
       "<div>\n",
       "<style scoped>\n",
       "    .dataframe tbody tr th:only-of-type {\n",
       "        vertical-align: middle;\n",
       "    }\n",
       "\n",
       "    .dataframe tbody tr th {\n",
       "        vertical-align: top;\n",
       "    }\n",
       "\n",
       "    .dataframe thead th {\n",
       "        text-align: right;\n",
       "    }\n",
       "</style>\n",
       "<table border=\"1\" class=\"dataframe\">\n",
       "  <thead>\n",
       "    <tr style=\"text-align: right;\">\n",
       "      <th></th>\n",
       "      <th>user_id</th>\n",
       "      <th>timestamp</th>\n",
       "      <th>group</th>\n",
       "      <th>landing_page</th>\n",
       "      <th>converted</th>\n",
       "    </tr>\n",
       "  </thead>\n",
       "  <tbody>\n",
       "    <tr>\n",
       "      <th>2656</th>\n",
       "      <td>698120</td>\n",
       "      <td>2017-01-15 17:13:42.602796</td>\n",
       "      <td>control</td>\n",
       "      <td>old_page</td>\n",
       "      <td>0</td>\n",
       "    </tr>\n",
       "    <tr>\n",
       "      <th>2893</th>\n",
       "      <td>773192</td>\n",
       "      <td>2017-01-14 02:55:59.590927</td>\n",
       "      <td>treatment</td>\n",
       "      <td>new_page</td>\n",
       "      <td>0</td>\n",
       "    </tr>\n",
       "    <tr>\n",
       "      <th>7500</th>\n",
       "      <td>899953</td>\n",
       "      <td>2017-01-07 03:06:54.068237</td>\n",
       "      <td>control</td>\n",
       "      <td>new_page</td>\n",
       "      <td>0</td>\n",
       "    </tr>\n",
       "    <tr>\n",
       "      <th>8036</th>\n",
       "      <td>790934</td>\n",
       "      <td>2017-01-19 08:32:20.329057</td>\n",
       "      <td>treatment</td>\n",
       "      <td>new_page</td>\n",
       "      <td>0</td>\n",
       "    </tr>\n",
       "    <tr>\n",
       "      <th>10218</th>\n",
       "      <td>633793</td>\n",
       "      <td>2017-01-17 00:16:00.746561</td>\n",
       "      <td>treatment</td>\n",
       "      <td>old_page</td>\n",
       "      <td>0</td>\n",
       "    </tr>\n",
       "    <tr>\n",
       "      <th>...</th>\n",
       "      <td>...</td>\n",
       "      <td>...</td>\n",
       "      <td>...</td>\n",
       "      <td>...</td>\n",
       "      <td>...</td>\n",
       "    </tr>\n",
       "    <tr>\n",
       "      <th>294308</th>\n",
       "      <td>905197</td>\n",
       "      <td>2017-01-03 06:56:47.488231</td>\n",
       "      <td>treatment</td>\n",
       "      <td>new_page</td>\n",
       "      <td>0</td>\n",
       "    </tr>\n",
       "    <tr>\n",
       "      <th>294309</th>\n",
       "      <td>787083</td>\n",
       "      <td>2017-01-17 00:15:20.950723</td>\n",
       "      <td>control</td>\n",
       "      <td>old_page</td>\n",
       "      <td>0</td>\n",
       "    </tr>\n",
       "    <tr>\n",
       "      <th>294328</th>\n",
       "      <td>641570</td>\n",
       "      <td>2017-01-09 21:59:27.695711</td>\n",
       "      <td>control</td>\n",
       "      <td>old_page</td>\n",
       "      <td>0</td>\n",
       "    </tr>\n",
       "    <tr>\n",
       "      <th>294331</th>\n",
       "      <td>689637</td>\n",
       "      <td>2017-01-13 11:34:28.339532</td>\n",
       "      <td>control</td>\n",
       "      <td>new_page</td>\n",
       "      <td>0</td>\n",
       "    </tr>\n",
       "    <tr>\n",
       "      <th>294355</th>\n",
       "      <td>744456</td>\n",
       "      <td>2017-01-13 09:32:07.106794</td>\n",
       "      <td>treatment</td>\n",
       "      <td>new_page</td>\n",
       "      <td>0</td>\n",
       "    </tr>\n",
       "  </tbody>\n",
       "</table>\n",
       "<p>3894 rows × 5 columns</p>\n",
       "</div>"
      ],
      "text/plain": [
       "        user_id                   timestamp      group landing_page  converted\n",
       "2656     698120  2017-01-15 17:13:42.602796    control     old_page          0\n",
       "2893     773192  2017-01-14 02:55:59.590927  treatment     new_page          0\n",
       "7500     899953  2017-01-07 03:06:54.068237    control     new_page          0\n",
       "8036     790934  2017-01-19 08:32:20.329057  treatment     new_page          0\n",
       "10218    633793  2017-01-17 00:16:00.746561  treatment     old_page          0\n",
       "...         ...                         ...        ...          ...        ...\n",
       "294308   905197  2017-01-03 06:56:47.488231  treatment     new_page          0\n",
       "294309   787083  2017-01-17 00:15:20.950723    control     old_page          0\n",
       "294328   641570  2017-01-09 21:59:27.695711    control     old_page          0\n",
       "294331   689637  2017-01-13 11:34:28.339532    control     new_page          0\n",
       "294355   744456  2017-01-13 09:32:07.106794  treatment     new_page          0\n",
       "\n",
       "[3894 rows x 5 columns]"
      ]
     },
     "execution_count": 7,
     "metadata": {},
     "output_type": "execute_result"
    }
   ],
   "source": [
    "# Check duplicate user_id\n",
    "df[df[\"user_id\"].duplicated()]"
   ]
  },
  {
   "cell_type": "code",
   "execution_count": 8,
   "id": "a48c84af",
   "metadata": {},
   "outputs": [
    {
     "data": {
      "text/html": [
       "<div>\n",
       "<style scoped>\n",
       "    .dataframe tbody tr th:only-of-type {\n",
       "        vertical-align: middle;\n",
       "    }\n",
       "\n",
       "    .dataframe tbody tr th {\n",
       "        vertical-align: top;\n",
       "    }\n",
       "\n",
       "    .dataframe thead th {\n",
       "        text-align: right;\n",
       "    }\n",
       "</style>\n",
       "<table border=\"1\" class=\"dataframe\">\n",
       "  <thead>\n",
       "    <tr style=\"text-align: right;\">\n",
       "      <th></th>\n",
       "      <th>user_id</th>\n",
       "      <th>timestamp</th>\n",
       "      <th>group</th>\n",
       "      <th>landing_page</th>\n",
       "      <th>converted</th>\n",
       "    </tr>\n",
       "  </thead>\n",
       "  <tbody>\n",
       "    <tr>\n",
       "      <th>988</th>\n",
       "      <td>698120</td>\n",
       "      <td>2017-01-22 07:09:37.540970</td>\n",
       "      <td>control</td>\n",
       "      <td>new_page</td>\n",
       "      <td>0</td>\n",
       "    </tr>\n",
       "    <tr>\n",
       "      <th>2656</th>\n",
       "      <td>698120</td>\n",
       "      <td>2017-01-15 17:13:42.602796</td>\n",
       "      <td>control</td>\n",
       "      <td>old_page</td>\n",
       "      <td>0</td>\n",
       "    </tr>\n",
       "  </tbody>\n",
       "</table>\n",
       "</div>"
      ],
      "text/plain": [
       "      user_id                   timestamp    group landing_page  converted\n",
       "988    698120  2017-01-22 07:09:37.540970  control     new_page          0\n",
       "2656   698120  2017-01-15 17:13:42.602796  control     old_page          0"
      ]
     },
     "execution_count": 8,
     "metadata": {},
     "output_type": "execute_result"
    }
   ],
   "source": [
    "df[df[\"user_id\"]==698120]"
   ]
  },
  {
   "cell_type": "code",
   "execution_count": 9,
   "id": "b4a2025f",
   "metadata": {},
   "outputs": [
    {
     "name": "stdout",
     "output_type": "stream",
     "text": [
      "The number of mismatched rows:3893 rows\n",
      "Percent of mismatched rows:1.32%\n"
     ]
    }
   ],
   "source": [
    "# Check if there is mismatch between group and landing_page\n",
    "df_mismatch = df[(df[\"group\"]==\"treatment\")&(df[\"landing_page\"]==\"old_page\")\n",
    "                |(df[\"group\"]==\"control\")&(df[\"landing_page\"]==\"new_page\")]\n",
    "n_mismatch = df_mismatch.shape[0]\n",
    "print(f\"The number of mismatched rows:{n_mismatch} rows\" )\n",
    "print(\"Percent of mismatched rows:%.2f%%\" % (n_mismatch/df.shape[0]*100))"
   ]
  },
  {
   "cell_type": "code",
   "execution_count": 12,
   "id": "5e073d5d",
   "metadata": {},
   "outputs": [],
   "source": [
    "df2 = df[(df[\"group\"]==\"treatment\")&(df[\"landing_page\"]==\"new_page\")\n",
    "                |(df[\"group\"]==\"control\")&(df[\"landing_page\"]==\"old_page\")]"
   ]
  },
  {
   "cell_type": "code",
   "execution_count": 13,
   "id": "80dd3584",
   "metadata": {},
   "outputs": [
    {
     "data": {
      "text/html": [
       "<div>\n",
       "<style scoped>\n",
       "    .dataframe tbody tr th:only-of-type {\n",
       "        vertical-align: middle;\n",
       "    }\n",
       "\n",
       "    .dataframe tbody tr th {\n",
       "        vertical-align: top;\n",
       "    }\n",
       "\n",
       "    .dataframe thead th {\n",
       "        text-align: right;\n",
       "    }\n",
       "</style>\n",
       "<table border=\"1\" class=\"dataframe\">\n",
       "  <thead>\n",
       "    <tr style=\"text-align: right;\">\n",
       "      <th></th>\n",
       "      <th>user_id</th>\n",
       "      <th>timestamp</th>\n",
       "      <th>group</th>\n",
       "      <th>landing_page</th>\n",
       "      <th>converted</th>\n",
       "    </tr>\n",
       "  </thead>\n",
       "  <tbody>\n",
       "    <tr>\n",
       "      <th>2893</th>\n",
       "      <td>773192</td>\n",
       "      <td>2017-01-14 02:55:59.590927</td>\n",
       "      <td>treatment</td>\n",
       "      <td>new_page</td>\n",
       "      <td>0</td>\n",
       "    </tr>\n",
       "  </tbody>\n",
       "</table>\n",
       "</div>"
      ],
      "text/plain": [
       "      user_id                   timestamp      group landing_page  converted\n",
       "2893   773192  2017-01-14 02:55:59.590927  treatment     new_page          0"
      ]
     },
     "execution_count": 13,
     "metadata": {},
     "output_type": "execute_result"
    }
   ],
   "source": [
    "df2[df2[\"user_id\"].duplicated()]"
   ]
  },
  {
   "cell_type": "code",
   "execution_count": 14,
   "id": "d7c605e5",
   "metadata": {},
   "outputs": [
    {
     "data": {
      "text/html": [
       "<div>\n",
       "<style scoped>\n",
       "    .dataframe tbody tr th:only-of-type {\n",
       "        vertical-align: middle;\n",
       "    }\n",
       "\n",
       "    .dataframe tbody tr th {\n",
       "        vertical-align: top;\n",
       "    }\n",
       "\n",
       "    .dataframe thead th {\n",
       "        text-align: right;\n",
       "    }\n",
       "</style>\n",
       "<table border=\"1\" class=\"dataframe\">\n",
       "  <thead>\n",
       "    <tr style=\"text-align: right;\">\n",
       "      <th></th>\n",
       "      <th>user_id</th>\n",
       "      <th>timestamp</th>\n",
       "      <th>group</th>\n",
       "      <th>landing_page</th>\n",
       "      <th>converted</th>\n",
       "    </tr>\n",
       "  </thead>\n",
       "  <tbody>\n",
       "    <tr>\n",
       "      <th>1899</th>\n",
       "      <td>773192</td>\n",
       "      <td>2017-01-09 05:37:58.781806</td>\n",
       "      <td>treatment</td>\n",
       "      <td>new_page</td>\n",
       "      <td>0</td>\n",
       "    </tr>\n",
       "    <tr>\n",
       "      <th>2893</th>\n",
       "      <td>773192</td>\n",
       "      <td>2017-01-14 02:55:59.590927</td>\n",
       "      <td>treatment</td>\n",
       "      <td>new_page</td>\n",
       "      <td>0</td>\n",
       "    </tr>\n",
       "  </tbody>\n",
       "</table>\n",
       "</div>"
      ],
      "text/plain": [
       "      user_id                   timestamp      group landing_page  converted\n",
       "1899   773192  2017-01-09 05:37:58.781806  treatment     new_page          0\n",
       "2893   773192  2017-01-14 02:55:59.590927  treatment     new_page          0"
      ]
     },
     "execution_count": 14,
     "metadata": {},
     "output_type": "execute_result"
    }
   ],
   "source": [
    "df2[df2[\"user_id\"]==773192]"
   ]
  },
  {
   "cell_type": "code",
   "execution_count": 15,
   "id": "d87d0890",
   "metadata": {},
   "outputs": [],
   "source": [
    "df2.drop_duplicates(subset=\"user_id\",inplace=True) "
   ]
  },
  {
   "cell_type": "code",
   "execution_count": 16,
   "id": "aeff504f",
   "metadata": {},
   "outputs": [
    {
     "data": {
      "text/plain": [
       "(290584, 5)"
      ]
     },
     "execution_count": 16,
     "metadata": {},
     "output_type": "execute_result"
    }
   ],
   "source": [
    "df2.shape"
   ]
  },
  {
   "cell_type": "code",
   "execution_count": 17,
   "id": "b4c5857e",
   "metadata": {},
   "outputs": [
    {
     "data": {
      "text/html": [
       "<div>\n",
       "<style scoped>\n",
       "    .dataframe tbody tr th:only-of-type {\n",
       "        vertical-align: middle;\n",
       "    }\n",
       "\n",
       "    .dataframe tbody tr th {\n",
       "        vertical-align: top;\n",
       "    }\n",
       "\n",
       "    .dataframe thead th {\n",
       "        text-align: right;\n",
       "    }\n",
       "</style>\n",
       "<table border=\"1\" class=\"dataframe\">\n",
       "  <thead>\n",
       "    <tr style=\"text-align: right;\">\n",
       "      <th></th>\n",
       "      <th>Control_COUNT</th>\n",
       "      <th>Treatment_COUNT</th>\n",
       "      <th>Control_RATIO</th>\n",
       "      <th>Trement_RATIO</th>\n",
       "    </tr>\n",
       "    <tr>\n",
       "      <th>converted</th>\n",
       "      <th></th>\n",
       "      <th></th>\n",
       "      <th></th>\n",
       "      <th></th>\n",
       "    </tr>\n",
       "  </thead>\n",
       "  <tbody>\n",
       "    <tr>\n",
       "      <th>0</th>\n",
       "      <td>127785</td>\n",
       "      <td>128046</td>\n",
       "      <td>0.879614</td>\n",
       "      <td>0.881192</td>\n",
       "    </tr>\n",
       "    <tr>\n",
       "      <th>1</th>\n",
       "      <td>17489</td>\n",
       "      <td>17264</td>\n",
       "      <td>0.120386</td>\n",
       "      <td>0.118808</td>\n",
       "    </tr>\n",
       "  </tbody>\n",
       "</table>\n",
       "</div>"
      ],
      "text/plain": [
       "           Control_COUNT  Treatment_COUNT  Control_RATIO  Trement_RATIO\n",
       "converted                                                              \n",
       "0                 127785           128046       0.879614       0.881192\n",
       "1                  17489            17264       0.120386       0.118808"
      ]
     },
     "execution_count": 17,
     "metadata": {},
     "output_type": "execute_result"
    }
   ],
   "source": [
    "# Conversion Rate\n",
    "df_counts = pd.DataFrame({\"Control_COUNT\": df2[df2.group==\"control\"].converted.value_counts(),\n",
    "              \"Treatment_COUNT\": df2[df2.group==\"treatment\"].converted.value_counts(),\n",
    "              \"Control_RATIO\": df2[df2.group==\"control\"].converted.value_counts()/ len(df2[df2.group==\"control\"]),\n",
    "              \"Trement_RATIO\": df2[df2.group==\"treatment\"].converted.value_counts() / len(df2[df2.group==\"treatment\"])})\n",
    "df_counts"
   ]
  },
  {
   "cell_type": "code",
   "execution_count": null,
   "id": "90075977",
   "metadata": {},
   "outputs": [
    {
     "data": {
      "image/png": "[encoded data removed]",
      "text/plain": [
       "<Figure size 1800x500 with 3 Axes>"
      ]
     },
     "metadata": {},
     "output_type": "display_data"
    }
   ],
   "source": [
    "fig, axes = plt.subplots(1, 3, figsize=(18, 5))\n",
    "\n",
    "# ① histplot\n",
    "sns.histplot(x=\"converted\", data=df2, ax=axes[0])\n",
    "axes[0].set_title(\"Distribution of Total Data\")\n",
    "axes[0].set_ylabel(\"Count\")\n",
    "\n",
    "# ② countplot\n",
    "sns.countplot(x=\"converted\", data=df2, hue=\"group\", ax=axes[1])\n",
    "axes[1].set_title(\"# Conversion for Each Group\")\n",
    "axes[1].set_ylabel(\"Count\")\n",
    "\n",
    "# ③ pointplot\n",
    "sns.pointplot(x=\"group\", y=\"converted\", data=df2, ax=axes[2])\n",
    "axes[2].set_ylim([0.115, 0.125])  # 시각적으로 미세한 차이 강조\n",
    "axes[2].set_title(\"Converted Rate for Each Group\")\n",
    "axes[2].set_ylabel(\"Converted Rate\")\n",
    "\n",
    "plt.tight_layout()\n",
    "plt.show()"
   ]
  },
  {
   "cell_type": "code",
   "execution_count": 22,
   "id": "bd2cd650",
   "metadata": {},
   "outputs": [
    {
     "data": {
      "text/plain": [
       "array([[127785, 128046],\n",
       "       [ 17489,  17264]], dtype=int64)"
      ]
     },
     "execution_count": 22,
     "metadata": {},
     "output_type": "execute_result"
    }
   ],
   "source": [
    "table = df_counts.iloc[:,0:2].to_numpy()\n",
    "table"
   ]
  },
  {
   "cell_type": "code",
   "execution_count": 23,
   "id": "8f747a62",
   "metadata": {},
   "outputs": [
    {
     "name": "stdout",
     "output_type": "stream",
     "text": [
      "fredoom of degree=1\n",
      "[[127899.65274757 127931.34725243]\n",
      " [ 17374.34725243  17378.65274757]]\n",
      "probability=0.950, critical=3.841, stat=1.704\n",
      "Independent (fail to reject H0)\n",
      "significance=0.050, p=0.192\n",
      "Independent (fail to reject H0)\n"
     ]
    }
   ],
   "source": [
    "# chi-squared test \n",
    "stat, p, dof, expected = stats.chi2_contingency(table)\n",
    "print(\"fredoom of degree=%d\"% dof)\n",
    "print(expected)\n",
    "# interpret test-statistic\n",
    "prob = 0.95\n",
    "critical = stats.chi2.ppf(prob, dof)\n",
    "print('probability=%.3f, critical=%.3f, stat=%.3f' % (prob, critical, stat))\n",
    "if abs(stat) >= critical:\n",
    "    print('Dependent (reject H0)')\n",
    "else:\n",
    "    print('Independent (fail to reject H0)')\n",
    "# interpret p-value\n",
    "alpha = 1-prob\n",
    "print('significance=%.3f, p=%.3f' % (alpha, p))\n",
    "if p <= alpha:\n",
    "    print('Dependent (reject H0)')\n",
    "else:\n",
    "    print('Independent (fail to reject H0)')"
   ]
  },
  {
   "cell_type": "code",
   "execution_count": 24,
   "id": "daf255e8",
   "metadata": {},
   "outputs": [
    {
     "name": "stdout",
     "output_type": "stream",
     "text": [
      "odd ratio is : 0.9851226640350362\n",
      "p_value is : 0.19047706765708894\n",
      "Independent (fail to reject H0)\n"
     ]
    }
   ],
   "source": [
    "# Fishers exact test on the data\n",
    "odd_ratio, p_value = stats.fisher_exact(table, alternative=\"two-sided\")\n",
    "print(\"odd ratio is : \" + str(odd_ratio))\n",
    "print(\"p_value is : \" + str(p_value))\n",
    "if p_value <= alpha:\n",
    "    print('Dependent (reject H0)')\n",
    "else:\n",
    "    print('Independent (fail to reject H0)')"
   ]
  },
  {
   "cell_type": "code",
   "execution_count": 25,
   "id": "67c27570",
   "metadata": {},
   "outputs": [
    {
     "data": {
      "text/html": [
       "<div>\n",
       "<style scoped>\n",
       "    .dataframe tbody tr th:only-of-type {\n",
       "        vertical-align: middle;\n",
       "    }\n",
       "\n",
       "    .dataframe tbody tr th {\n",
       "        vertical-align: top;\n",
       "    }\n",
       "\n",
       "    .dataframe thead th {\n",
       "        text-align: right;\n",
       "    }\n",
       "</style>\n",
       "<table border=\"1\" class=\"dataframe\">\n",
       "  <thead>\n",
       "    <tr style=\"text-align: right;\">\n",
       "      <th></th>\n",
       "      <th>Test</th>\n",
       "      <th>P_value</th>\n",
       "      <th>AB Hypothesis</th>\n",
       "      <th>Comment</th>\n",
       "    </tr>\n",
       "  </thead>\n",
       "  <tbody>\n",
       "    <tr>\n",
       "      <th>0</th>\n",
       "      <td>Chi Square Test</td>\n",
       "      <td>0.191822</td>\n",
       "      <td>Fail to Reject H0</td>\n",
       "      <td>A/B groups are similar!</td>\n",
       "    </tr>\n",
       "  </tbody>\n",
       "</table>\n",
       "</div>"
      ],
      "text/plain": [
       "              Test   P_value      AB Hypothesis                  Comment\n",
       "0  Chi Square Test  0.191822  Fail to Reject H0  A/B groups are similar!"
      ]
     },
     "execution_count": 25,
     "metadata": {},
     "output_type": "execute_result"
    }
   ],
   "source": [
    "def AB_testing(dataframe, group, metric):\n",
    "    \n",
    "    # Split groups\n",
    "    group_c = dataframe[dataframe[group] == \"control\"][metric]\n",
    "    group_t = dataframe[dataframe[group] == \"treatment\"][metric]\n",
    "    \n",
    "    size = dataframe.shape[0]  \n",
    "    table = pd.DataFrame({\"C_COUNT\": group_c.value_counts(),\n",
    "              \"T_COUNT\": group_t.value_counts()}).to_numpy()\n",
    "    \n",
    "    if size < 1000:\n",
    "        # Fisher Exact Test\n",
    "        odd_ratio, p_value = stats.fisher_exact(table, alternative=\"two-sided\")\n",
    "    else:\n",
    "        # Pearson Chi Square Test\n",
    "        stat, p_value, dof, expected = stats.chi2_contingency(table)\n",
    "    # Result\n",
    "    temp = pd.DataFrame({\n",
    "        \"Test\":[size<1000],\n",
    "        \"P_value\":[p_value],\n",
    "        \"AB Hypothesis\":[p_value < 0.05], \n",
    "    })\n",
    "    temp[\"Test\"] = np.where(temp[\"Test\"]==True, \"Fisher Exact Test\", \"Chi Square Test\")\n",
    "    temp[\"AB Hypothesis\"] = np.where(temp[\"AB Hypothesis\"] == False, \"Fail to Reject H0\", \"Reject H0\")\n",
    "    temp[\"Comment\"] = np.where(temp[\"AB Hypothesis\"] == \"Fail to Reject H0\", \"A/B groups are similar!\", \"A/B groups are not similar!\")\n",
    "    \n",
    "    return temp\n",
    "   \n",
    "# Apply A/B Testing\n",
    "AB_testing(dataframe=df2, group = \"group\", metric = \"converted\")"
   ]
  },
  {
   "cell_type": "code",
   "execution_count": 27,
   "id": "4a627ddb",
   "metadata": {},
   "outputs": [],
   "source": [
    "# Create a fake 3-groups dada \n",
    "df_group3 = pd.DataFrame({\"score\": [87, 86, 88, 75, 78, 94, 98, 79, 71, 69,\n",
    "                             91, 92, 90, 90, 97, 94, 82, 88, 95, 96,\n",
    "                             88, 78, 88, 94, 93, 85, 83, 85, 82, 81],\n",
    "                   \"group\": np.repeat([\"A\", \"B\", \"C\"], repeats=10)}) \n",
    "A = df_group3[df_group3[\"group\"]==\"A\"].score\n",
    "B = df_group3[df_group3[\"group\"]==\"B\"].score\n",
    "C = df_group3[df_group3[\"group\"]==\"C\"].score"
   ]
  },
  {
   "cell_type": "code",
   "execution_count": 28,
   "id": "b0f67115",
   "metadata": {},
   "outputs": [
    {
     "data": {
      "text/plain": [
       "F_onewayResult(statistic=4.491727279993608, pvalue=0.020702475181623638)"
      ]
     },
     "execution_count": 28,
     "metadata": {},
     "output_type": "execute_result"
    }
   ],
   "source": [
    "# Perform one-way ANOVA\n",
    "stats.f_oneway(A, B, C)"
   ]
  },
  {
   "cell_type": "code",
   "execution_count": 32,
   "id": "ee7ac558",
   "metadata": {},
   "outputs": [
    {
     "name": "stdout",
     "output_type": "stream",
     "text": [
      " Multiple Comparison of Means - Tukey HSD, FWER=0.05 \n",
      "=====================================================\n",
      "group1 group2 meandiff p-adj   lower    upper  reject\n",
      "-----------------------------------------------------\n",
      "     A      B      9.0  0.017   1.4521 16.5479   True\n",
      "     A      C      3.2 0.5519  -4.3479 10.7479  False\n",
      "     B      C     -5.8 0.1566 -13.3479  1.7479  False\n",
      "-----------------------------------------------------\n"
     ]
    }
   ],
   "source": [
    "from statsmodels.stats.multicomp import pairwise_tukeyhsd\n",
    "# perform Tukey's test\n",
    "tukey = pairwise_tukeyhsd(endog=df_group3['score'],\n",
    "                          groups=df_group3['group'],\n",
    "                          alpha=0.05)\n",
    "\n",
    "#display results\n",
    "print(tukey)"
   ]
  }
 ],
 "metadata": {
  "kernelspec": {
   "display_name": "base",
   "language": "python",
   "name": "python3"
  },
  "language_info": {
   "codemirror_mode": {
    "name": "ipython",
    "version": 3
   },
   "file_extension": ".py",
   "mimetype": "text/x-python",
   "name": "python",
   "nbconvert_exporter": "python",
   "pygments_lexer": "ipython3",
   "version": "3.12.7"
  }
 },
 "nbformat": 4,
 "nbformat_minor": 5
}
